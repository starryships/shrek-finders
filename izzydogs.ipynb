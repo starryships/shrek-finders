{
 "cells": [
  {
   "cell_type": "markdown",
   "metadata": {},
   "source": [
    "# Dogs per Neighborhoods\n",
    " \n",
    " The WPRDC has a record of all dog licenses in Allegheny county, which includes the zip code of each owner. I used the 2021 dataset to find the zipcodes with the most dogs and then translated those zipcode into neighborhoods."
   ]
  },
  {
   "cell_type": "markdown",
   "metadata": {},
   "source": [
    "I imported all the necessary packages first."
   ]
  },
  {
   "cell_type": "code",
   "execution_count": 1,
   "metadata": {},
   "outputs": [],
   "source": [
    "import pandas as pd\n",
    "import numpy as np\n",
    "import geopandas\n",
    "import matplotlib.pyplot as plt\n",
    "\n",
    "%matplotlib inline"
   ]
  },
  {
   "cell_type": "markdown",
   "metadata": {},
   "source": [
    "Then I imported the data from the WPRDC."
   ]
  },
  {
   "cell_type": "code",
   "execution_count": 2,
   "metadata": {},
   "outputs": [
    {
     "data": {
      "text/html": [
       "<div>\n",
       "<style scoped>\n",
       "    .dataframe tbody tr th:only-of-type {\n",
       "        vertical-align: middle;\n",
       "    }\n",
       "\n",
       "    .dataframe tbody tr th {\n",
       "        vertical-align: top;\n",
       "    }\n",
       "\n",
       "    .dataframe thead th {\n",
       "        text-align: right;\n",
       "    }\n",
       "</style>\n",
       "<table border=\"1\" class=\"dataframe\">\n",
       "  <thead>\n",
       "    <tr style=\"text-align: right;\">\n",
       "      <th></th>\n",
       "      <th>LicenseType</th>\n",
       "      <th>Breed</th>\n",
       "      <th>Color</th>\n",
       "      <th>DogName</th>\n",
       "      <th>OwnerZip</th>\n",
       "      <th>ExpYear</th>\n",
       "      <th>ValidDate</th>\n",
       "    </tr>\n",
       "  </thead>\n",
       "  <tbody>\n",
       "    <tr>\n",
       "      <th>0</th>\n",
       "      <td>Dog Individual Neutered Male</td>\n",
       "      <td>COCKAPOO</td>\n",
       "      <td>BROWN</td>\n",
       "      <td>CHARLEY</td>\n",
       "      <td>15236</td>\n",
       "      <td>2021</td>\n",
       "      <td>2020-11-30T09:51:38</td>\n",
       "    </tr>\n",
       "    <tr>\n",
       "      <th>1</th>\n",
       "      <td>Dog Individual Neutered Male</td>\n",
       "      <td>TAG</td>\n",
       "      <td>WHITE/BLACK/BROWN</td>\n",
       "      <td>BOOMER</td>\n",
       "      <td>15090</td>\n",
       "      <td>2021</td>\n",
       "      <td>2020-11-30T09:55:05</td>\n",
       "    </tr>\n",
       "    <tr>\n",
       "      <th>2</th>\n",
       "      <td>Dog Individual Male</td>\n",
       "      <td>American Bully</td>\n",
       "      <td>BROWN</td>\n",
       "      <td>BRUISER</td>\n",
       "      <td>15220</td>\n",
       "      <td>2021</td>\n",
       "      <td>2020-11-30T10:53:39</td>\n",
       "    </tr>\n",
       "    <tr>\n",
       "      <th>3</th>\n",
       "      <td>Dog Senior Citizen or Disability Neutered Male</td>\n",
       "      <td>CHIHUAHUA</td>\n",
       "      <td>BLACK</td>\n",
       "      <td>MIDGET</td>\n",
       "      <td>15065</td>\n",
       "      <td>2021</td>\n",
       "      <td>2020-11-30T15:28:45</td>\n",
       "    </tr>\n",
       "    <tr>\n",
       "      <th>4</th>\n",
       "      <td>Dog Individual Male</td>\n",
       "      <td>GOLDENDOODLE</td>\n",
       "      <td>BROWN</td>\n",
       "      <td>REX</td>\n",
       "      <td>15237</td>\n",
       "      <td>2021</td>\n",
       "      <td>2020-11-30T15:38:14</td>\n",
       "    </tr>\n",
       "  </tbody>\n",
       "</table>\n",
       "</div>"
      ],
      "text/plain": [
       "                                      LicenseType           Breed  \\\n",
       "0                    Dog Individual Neutered Male        COCKAPOO   \n",
       "1                    Dog Individual Neutered Male             TAG   \n",
       "2                             Dog Individual Male  American Bully   \n",
       "3  Dog Senior Citizen or Disability Neutered Male       CHIHUAHUA   \n",
       "4                             Dog Individual Male    GOLDENDOODLE   \n",
       "\n",
       "               Color  DogName  OwnerZip  ExpYear            ValidDate  \n",
       "0              BROWN  CHARLEY     15236     2021  2020-11-30T09:51:38  \n",
       "1  WHITE/BLACK/BROWN   BOOMER     15090     2021  2020-11-30T09:55:05  \n",
       "2              BROWN  BRUISER     15220     2021  2020-11-30T10:53:39  \n",
       "3              BLACK   MIDGET     15065     2021  2020-11-30T15:28:45  \n",
       "4              BROWN      REX     15237     2021  2020-11-30T15:38:14  "
      ]
     },
     "execution_count": 2,
     "metadata": {},
     "output_type": "execute_result"
    }
   ],
   "source": [
    "big_dog_data = pd.read_csv(\"https://data.wprdc.org/datastore/dump/e16d4ab3-842a-4f39-9ad7-ce5921002280\")\n",
    "\n",
    "big_dog_data.head()"
   ]
  },
  {
   "cell_type": "markdown",
   "metadata": {},
   "source": [
    "The dataset had a lot of unnecessary columns, so I removed them to make life easier."
   ]
  },
  {
   "cell_type": "code",
   "execution_count": 3,
   "metadata": {},
   "outputs": [
    {
     "data": {
      "text/html": [
       "<div>\n",
       "<style scoped>\n",
       "    .dataframe tbody tr th:only-of-type {\n",
       "        vertical-align: middle;\n",
       "    }\n",
       "\n",
       "    .dataframe tbody tr th {\n",
       "        vertical-align: top;\n",
       "    }\n",
       "\n",
       "    .dataframe thead th {\n",
       "        text-align: right;\n",
       "    }\n",
       "</style>\n",
       "<table border=\"1\" class=\"dataframe\">\n",
       "  <thead>\n",
       "    <tr style=\"text-align: right;\">\n",
       "      <th></th>\n",
       "      <th>OwnerZip</th>\n",
       "    </tr>\n",
       "  </thead>\n",
       "  <tbody>\n",
       "    <tr>\n",
       "      <th>0</th>\n",
       "      <td>15236</td>\n",
       "    </tr>\n",
       "    <tr>\n",
       "      <th>1</th>\n",
       "      <td>15090</td>\n",
       "    </tr>\n",
       "    <tr>\n",
       "      <th>2</th>\n",
       "      <td>15220</td>\n",
       "    </tr>\n",
       "    <tr>\n",
       "      <th>3</th>\n",
       "      <td>15065</td>\n",
       "    </tr>\n",
       "    <tr>\n",
       "      <th>4</th>\n",
       "      <td>15237</td>\n",
       "    </tr>\n",
       "  </tbody>\n",
       "</table>\n",
       "</div>"
      ],
      "text/plain": [
       "   OwnerZip\n",
       "0     15236\n",
       "1     15090\n",
       "2     15220\n",
       "3     15065\n",
       "4     15237"
      ]
     },
     "execution_count": 3,
     "metadata": {},
     "output_type": "execute_result"
    }
   ],
   "source": [
    "dog_data_1 = big_dog_data.drop(['LicenseType','Breed','Color','ExpYear','ValidDate','DogName'], axis = 1)\n",
    "\n",
    "dog_data_1.head()"
   ]
  },
  {
   "cell_type": "markdown",
   "metadata": {},
   "source": [
    "Then I resorted the data, from the smallest value of zip code to the largest and reset the index."
   ]
  },
  {
   "cell_type": "code",
   "execution_count": 4,
   "metadata": {},
   "outputs": [
    {
     "data": {
      "text/html": [
       "<div>\n",
       "<style scoped>\n",
       "    .dataframe tbody tr th:only-of-type {\n",
       "        vertical-align: middle;\n",
       "    }\n",
       "\n",
       "    .dataframe tbody tr th {\n",
       "        vertical-align: top;\n",
       "    }\n",
       "\n",
       "    .dataframe thead th {\n",
       "        text-align: right;\n",
       "    }\n",
       "</style>\n",
       "<table border=\"1\" class=\"dataframe\">\n",
       "  <thead>\n",
       "    <tr style=\"text-align: right;\">\n",
       "      <th></th>\n",
       "      <th>OwnerZip</th>\n",
       "    </tr>\n",
       "  </thead>\n",
       "  <tbody>\n",
       "    <tr>\n",
       "      <th>0</th>\n",
       "      <td>15001</td>\n",
       "    </tr>\n",
       "    <tr>\n",
       "      <th>1</th>\n",
       "      <td>15003</td>\n",
       "    </tr>\n",
       "    <tr>\n",
       "      <th>2</th>\n",
       "      <td>15003</td>\n",
       "    </tr>\n",
       "    <tr>\n",
       "      <th>3</th>\n",
       "      <td>15003</td>\n",
       "    </tr>\n",
       "    <tr>\n",
       "      <th>4</th>\n",
       "      <td>15003</td>\n",
       "    </tr>\n",
       "  </tbody>\n",
       "</table>\n",
       "</div>"
      ],
      "text/plain": [
       "   OwnerZip\n",
       "0     15001\n",
       "1     15003\n",
       "2     15003\n",
       "3     15003\n",
       "4     15003"
      ]
     },
     "execution_count": 4,
     "metadata": {},
     "output_type": "execute_result"
    }
   ],
   "source": [
    "dog_data = dog_data_1.sort_values('OwnerZip').reset_index(drop=True)\n",
    "\n",
    "dog_data.head(5)"
   ]
  },
  {
   "cell_type": "markdown",
   "metadata": {},
   "source": [
    "I used a threshold to include only zip codes that had more than 50 dogs registered, since many zipcodes didn't have more than a few dogs."
   ]
  },
  {
   "cell_type": "code",
   "execution_count": 5,
   "metadata": {},
   "outputs": [
    {
     "data": {
      "text/plain": [
       "15108    3499\n",
       "15237    3494\n",
       "15102    2838\n",
       "15235    2778\n",
       "15044    2738\n",
       "         ... \n",
       "15003      86\n",
       "15005      75\n",
       "15047      70\n",
       "15051      60\n",
       "15006      52\n",
       "Name: OwnerZip, Length: 83, dtype: int64"
      ]
     },
     "execution_count": 5,
     "metadata": {},
     "output_type": "execute_result"
    }
   ],
   "source": [
    "dogs_threshold = lambda x, threshold: x['OwnerZip'].count() > threshold\n",
    "\n",
    "most_dogs = dog_data.groupby(\"OwnerZip\").filter(dogs_threshold, threshold = 50)\n",
    "\n",
    "most_dogs['OwnerZip'].value_counts()"
   ]
  },
  {
   "cell_type": "markdown",
   "metadata": {},
   "source": [
    "the dataset contained zip codes from all over Allegheny County, way more than what was needed. since the zipcodes are sorted lowest to highest by numerical value, I could easily only include the ones between the lowest and highest within the city limits."
   ]
  },
  {
   "cell_type": "code",
   "execution_count": 6,
   "metadata": {},
   "outputs": [
    {
     "data": {
      "text/plain": [
       "15237    3494\n",
       "15235    2778\n",
       "15236    2451\n",
       "15239    2185\n",
       "15227    1960\n",
       "15241    1806\n",
       "15202    1471\n",
       "15205    1434\n",
       "15221    1421\n",
       "15228    1392\n",
       "15229    1347\n",
       "15238    1229\n",
       "15209    1198\n",
       "15243    1137\n",
       "15216    1115\n",
       "15234    1058\n",
       "15215    1024\n",
       "15220     789\n",
       "15223     715\n",
       "15218     713\n",
       "15214     387\n",
       "15212     259\n",
       "16046     251\n",
       "15210     192\n",
       "15332     181\n",
       "15226     125\n",
       "15225      93\n",
       "Name: OwnerZip, dtype: int64"
      ]
     },
     "execution_count": 6,
     "metadata": {},
     "output_type": "execute_result"
    }
   ],
   "source": [
    "pitt_dogs = most_dogs[49569:815243]\n",
    "\n",
    "pitt_dogs['OwnerZip'].value_counts()"
   ]
  },
  {
   "cell_type": "markdown",
   "metadata": {},
   "source": [
    "Since I could find no easy way to figure out which zip codes were related to each neighborhood, I made a dictionary to assign each zipcode to any neighborhoods it contains. The zeros indicate a zipcode that is not within the city limits."
   ]
  },
  {
   "cell_type": "code",
   "execution_count": 7,
   "metadata": {},
   "outputs": [],
   "source": [
    "zip_hoods = {\n",
    "    15237 : 0,\n",
    "    15235 : ['Penn Hills','Churchill', 'Lincoln-Lemington-Belmar'],\n",
    "    15236 : 0,\n",
    "    15239 : 0,\n",
    "    15227 : ['Brentwood', 'Baldwin', 'Whitehall'],\n",
    "    15241 : 0,\n",
    "    15202 : 0,\n",
    "    15205 : 0,\n",
    "    15221 : ['Brushton', 'Homewood','East Hills'],\n",
    "    15228 : 0,\n",
    "    15229 : 0,\n",
    "    15238 : 0,\n",
    "    15209 : 0,\n",
    "    15243 : 0,\n",
    "    15216 : ['Beechview'],\n",
    "    15234 : ['Overbrook'],\n",
    "    15215 : ['Sharpsburg', 'Aspinwall'],\n",
    "    15220 : ['West End', 'Wabash', 'Westwood', 'Banksville'],\n",
    "    15223 : 0,\n",
    "    15218 : ['Regent Square', 'Swisshelm Park'],\n",
    "    15214 : ['Northside'],\n",
    "    15212 : ['Northside'],\n",
    "    15210 : ['Knoxville', 'Beltzhoover','Carrick', 'Arlington'],\n",
    "    15226 : ['Brookline', 'Overbrook'],\n",
    "    15225 : 0\n",
    "}"
   ]
  },
  {
   "cell_type": "markdown",
   "metadata": {},
   "source": [
    "I then made the dictionary into a dataframe so that I could easily merge it with the original dataframe. After doing so, I removed all the zip codes that were not valid, leaving only 11."
   ]
  },
  {
   "cell_type": "code",
   "execution_count": 8,
   "metadata": {},
   "outputs": [
    {
     "data": {
      "text/plain": [
       "[Penn Hills, Churchill, Lincoln-Lemington-Belmar]    2778\n",
       "[Brentwood, Baldwin, Whitehall]                      1960\n",
       "[Brushton, Homewood, East Hills]                     1421\n",
       "[Beechview]                                          1115\n",
       "[Overbrook]                                          1058\n",
       "[Sharpsburg, Aspinwall]                              1024\n",
       "[West End, Wabash, Westwood, Banksville]              789\n",
       "[Regent Square, Swisshelm Park]                       713\n",
       "[Northside]                                           646\n",
       "[Knoxville, Beltzhoover, Carrick, Arlington]          192\n",
       "[Brookline, Overbrook]                                125\n",
       "Name: Neighborhood, dtype: int64"
      ]
     },
     "execution_count": 8,
     "metadata": {},
     "output_type": "execute_result"
    }
   ],
   "source": [
    "dogs_hoods = pd.DataFrame(list(zip_hoods.items()),columns = ['OwnerZip','Neighborhood'])\n",
    "\n",
    "city_dogs_hoods = pitt_dogs.merge(dogs_hoods, left_on = 'OwnerZip', right_on = 'OwnerZip')\n",
    "\n",
    "city_dogs_hoods = city_dogs_hoods[city_dogs_hoods.Neighborhood != 0]\n",
    "\n",
    "city_dogs_hoods['Neighborhood'].value_counts()"
   ]
  },
  {
   "cell_type": "code",
   "execution_count": 9,
   "metadata": {},
   "outputs": [
    {
     "data": {
      "text/plain": [
       "<matplotlib.axes._subplots.AxesSubplot at 0x7f23156ba190>"
      ]
     },
     "execution_count": 9,
     "metadata": {},
     "output_type": "execute_result"
    },
    {
     "data": {
      "image/png": "[encoded data removed]",
      "text/plain": [
       "<Figure size 720x720 with 1 Axes>"
      ]
     },
     "metadata": {
      "needs_background": "light"
     },
     "output_type": "display_data"
    }
   ],
   "source": [
    "city_dogs_hoods['Neighborhood'].value_counts().plot.bar(figsize=(10,10))"
   ]
  },
  {
   "cell_type": "markdown",
   "metadata": {},
   "source": [
    "# Conclusion \n",
    "The neighborhoods with the most dogs within Pittsburgh are Penn Hills, Chuchill, Lincoln-Lemington-Belmar with 2778 licensed dogs, followed by Brentwood, Baldwin, and Whitehall with 1960. If you want your dog to be super popular and have lots of friends, these would be the best neighborhoods to choose!"
   ]
  }
 ],
 "metadata": {
  "kernelspec": {
   "display_name": "Python 3",
   "language": "python",
   "name": "python3"
  },
  "language_info": {
   "codemirror_mode": {
    "name": "ipython",
    "version": 3
   },
   "file_extension": ".py",
   "mimetype": "text/x-python",
   "name": "python",
   "nbconvert_exporter": "python",
   "pygments_lexer": "ipython3",
   "version": "3.8.3"
  }
 },
 "nbformat": 4,
 "nbformat_minor": 4
}
